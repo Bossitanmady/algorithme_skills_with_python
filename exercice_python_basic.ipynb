{
 "cells": [
  {
   "cell_type": "markdown",
   "id": "e2cf0008-bd6b-4913-971a-fe04c0467585",
   "metadata": {},
   "source": [
    "# Exercice 1 : Recherche linéaire\n",
    "\n",
    "### Écrivez une fonction recherche_lineaire(liste, element) qui recherche un élément dans une liste non triée en utilisant l'algorithme de recherche linéaire. La fonction doit retourner l'indice de l'élément s'il est trouvé, ou -1 sinon."
   ]
  },
  {
   "cell_type": "code",
   "execution_count": 2,
   "id": "b2e0f7f5-5bfa-4711-bde6-b9f05fedb378",
   "metadata": {},
   "outputs": [],
   "source": [
    "def recherche_lineaire(liste, element):\n",
    "    \"\"\" Cette fonction permet de faire une recherche lineaire d'un element sur une liste \"\"\"\n",
    "    \n",
    "    for index, i in enumerate(liste):\n",
    "        \n",
    "        if i == element:\n",
    "            \n",
    "            return index \n",
    "            \n",
    "    return -1\n",
    "       "
   ]
  },
  {
   "cell_type": "code",
   "execution_count": 4,
   "id": "03eaad54-cd98-4b86-bb9b-0643008264ad",
   "metadata": {},
   "outputs": [
    {
     "name": "stdout",
     "output_type": "stream",
     "text": [
      "3\n",
      "-1\n"
     ]
    }
   ],
   "source": [
    "# Cas d'utilisation \n",
    "liste = [10, 20, 80, 30, 60, 50]\n",
    "print(recherche_lineaire(liste,30))\n",
    "print(recherche_lineaire(liste,100))"
   ]
  },
  {
   "cell_type": "code",
   "execution_count": 6,
   "id": "61a087ca-eb19-4566-a1e3-bad965afc93c",
   "metadata": {},
   "outputs": [],
   "source": [
    "def recherche_lineaire(liste,element):\n",
    "    \n",
    "    \"\"\" \n",
    "        Cette fonction permet de faire une recherche lineaire d'un élement dans sur une liste de nombres\n",
    "        Args:\n",
    "          liste(list): cette variable contient l'ensemble des valeurs de la liste\n",
    "          element: répresente à la valeur à recherche dans la liste \n",
    "        returns: \n",
    "           retourne l'indice de l'indice de l'élement s'il existe ou retourne -1 sinon \n",
    "    \"\"\"\n",
    "\n",
    "    for i in range(len(liste)):\n",
    "       \n",
    "       if liste[i] == element:\n",
    "           # on retourne l'indice de l'élement s'il existe \n",
    "           return i \n",
    "    # on retourn -1 si l'élement n'existe pas        \n",
    "    return -1\n",
    "    \n",
    "    "
   ]
  },
  {
   "cell_type": "code",
   "execution_count": 8,
   "id": "33ad3b19-7475-4928-9235-9e92ca121552",
   "metadata": {},
   "outputs": [
    {
     "name": "stdout",
     "output_type": "stream",
     "text": [
      "5\n",
      "-1\n"
     ]
    }
   ],
   "source": [
    "# Cas d'utilisation de la fonction: recherche_lineaire \n",
    "\n",
    "liste = [25,28,10, 20, 80, 30, 60, 50]\n",
    "\n",
    "print(recherche_lineaire(liste,30))\n",
    "\n",
    "print(recherche_lineaire(liste,100))"
   ]
  },
  {
   "cell_type": "markdown",
   "id": "1640318f-5794-4004-84a2-622b91b005f0",
   "metadata": {},
   "source": [
    "# Exercice 2 : Recherche binaire\n",
    "\n",
    "### Écrivez une fonction recherche_binaire(liste, element) qui recherche un élément dans une liste triée en utilisant l'algorithme de recherche binaire. La fonction doit retourner l'indice de l'élément s'il est trouvé, ou -1 sinon."
   ]
  },
  {
   "cell_type": "code",
   "execution_count": 11,
   "id": "791d0ccb-dbd0-45eb-bb33-7a55027b0cb4",
   "metadata": {},
   "outputs": [],
   "source": [
    "def recherche_binaire(liste,element):\n",
    "    \"\"\"\n",
    "        Recherche un élément dans une liste triée en utilisant l'algorithme de recherche binaire.\n",
    "    \n",
    "    Args:\n",
    "        liste (list): Liste triée où l'on cherche l'élément.\n",
    "        element: L'élément à chercher dans la liste.\n",
    "    \n",
    "    Returns:\n",
    "        int: L'indice de l'élément s'il est trouvé, ou -1 sinon.\n",
    "    \"\"\"\n",
    "    debut = 0\n",
    "    fin = len(liste)-1\n",
    "\n",
    "    while debut <= fin:\n",
    "        milieu = (debut+fin) // 2\n",
    "        \n",
    "        if liste[milieu] == element:\n",
    "            return milieu\n",
    "            \n",
    "        elif liste[milieu] < element:\n",
    "            debut = milieu + 1\n",
    "            \n",
    "        else:\n",
    "            fin = milieu - 1\n",
    "            \n",
    "    return -1 "
   ]
  },
  {
   "cell_type": "code",
   "execution_count": 13,
   "id": "56237176-3c8f-4a8a-8933-b155536d6885",
   "metadata": {},
   "outputs": [
    {
     "name": "stdout",
     "output_type": "stream",
     "text": [
      "3\n",
      "-1\n"
     ]
    }
   ],
   "source": [
    "# Cas d'utilisation de la fonction recherche binaire \n",
    "liste = [10, 20, 30, 50, 60, 80]\n",
    "print(recherche_binaire(liste, 50))  # Résultat : 3\n",
    "print(recherche_binaire(liste, 100))  # Résultat : -1"
   ]
  },
  {
   "cell_type": "markdown",
   "id": "3da0c8dc-ca8b-49e8-8a8e-7973820727d7",
   "metadata": {},
   "source": [
    "# Exercice 3 : Recherche dans une liste de dictionnaires\n",
    "\n",
    "### Étant donné une liste de dictionnaires, écrivez une fonction recherche_dictionnaire(liste, cle, valeur) qui recherche un dictionnaire dans la liste où la clé donnée a la valeur spécifiée. La fonction doit retourner le dictionnaire s'il est trouvé, ou None sinon."
   ]
  },
  {
   "cell_type": "code",
   "execution_count": 16,
   "id": "35470737-3f1c-49c3-88f8-2fe77a457bb7",
   "metadata": {},
   "outputs": [],
   "source": [
    "def recherche_dictionnaire(liste, cle, valeur):\n",
    "    \"\"\"\n",
    "    Recherche un dictionnaire dans une liste où une clé donnée a une valeur spécifique.\n",
    "    \n",
    "    Args:\n",
    "        liste (list): Liste de dictionnaires.\n",
    "        cle (str): Clé à rechercher dans les dictionnaires.\n",
    "        valeur: Valeur associée à la clé recherchée.\n",
    "    \n",
    "    Returns:\n",
    "        dict | None: Le dictionnaire correspondant s'il est trouvé, ou None sinon.\n",
    "    \"\"\"\n",
    "\n",
    "    for dictionnaire in liste:\n",
    "        \n",
    "        if cle in dictionnaire and dictionnaire[cle] == valeur:\n",
    "            \n",
    "            return dictionnaire \n",
    "            \n",
    "    return None "
   ]
  },
  {
   "cell_type": "code",
   "execution_count": 18,
   "id": "abf38da9-4235-4519-a2c6-22c28afeaa07",
   "metadata": {},
   "outputs": [
    {
     "name": "stdout",
     "output_type": "stream",
     "text": [
      "{'nom': 'Bob', 'age': 30}\n"
     ]
    }
   ],
   "source": [
    "# Exemple d'utilisation\n",
    "liste = [\n",
    "    {\"nom\": \"Alice\", \"age\": 25},\n",
    "    {\"nom\": \"Bob\", \"age\": 30},\n",
    "    {\"nom\": \"Charlie\", \"age\": 35}\n",
    "]\n",
    "\n",
    "resultat = recherche_dictionnaire(liste, \"nom\", \"Bob\")\n",
    "print(resultat if resultat else \"Aucun dictionnaire correspondant\")"
   ]
  },
  {
   "cell_type": "code",
   "execution_count": 20,
   "id": "ce9cd2e0-75a6-44c4-ab60-81808e0fbebf",
   "metadata": {},
   "outputs": [
    {
     "name": "stdout",
     "output_type": "stream",
     "text": [
      "Aucun dictionnaire correspondant\n"
     ]
    }
   ],
   "source": [
    "liste = [\n",
    "    {\"nom\": \"Alice\", \"age\": 25},\n",
    "    {\"nom\": \"Bob\", \"age\": 30},\n",
    "    {\"nom\": \"Charlie\", \"age\": 35}\n",
    "]\n",
    "\n",
    "resultat = recherche_dictionnaire(liste, \"prenom\", \"Bob\")\n",
    "print(resultat if resultat else \"Aucun dictionnaire correspondant\")"
   ]
  },
  {
   "cell_type": "markdown",
   "id": "3e343460-1196-427c-8f8b-ddd7d1f4795c",
   "metadata": {},
   "source": [
    "# Exercice 4 : Recherche de plusieurs occurrences\n",
    "\n",
    "### Écrivez une fonction recherche_occurrences(liste, element) qui retourne une liste contenant tous les indices où l'élément spécifié apparaît dans la liste. Si l'élément n'est pas trouvé, la fonction doit retourner une liste vide."
   ]
  },
  {
   "cell_type": "code",
   "execution_count": 23,
   "id": "800fa8fa-fdcc-4ca8-aa55-b5e42afbc83e",
   "metadata": {},
   "outputs": [],
   "source": [
    "def recherche_occurrences(liste,element):\n",
    "    \n",
    "    \"\"\"\n",
    "    Recherche tous les indices où un élément spécifié apparaît dans une liste.\n",
    "    \n",
    "    Args:\n",
    "        liste (list): La liste dans laquelle effectuer la recherche.\n",
    "        element: L'élément à rechercher dans la liste.\n",
    "    \n",
    "    Returns:\n",
    "        list: Une liste contenant tous les indices où l'élément apparaît, ou une liste vide si l'élément n'est pas trouvé.\n",
    "    \"\"\"\n",
    "    indices = []\n",
    "\n",
    "    for i in range(len(liste)):\n",
    "        if liste[i] == element:\n",
    "            indices.append(i)\n",
    "    return indices "
   ]
  },
  {
   "cell_type": "code",
   "execution_count": 25,
   "id": "2191a99e-d7df-454e-bb59-e71c0a4f248c",
   "metadata": {},
   "outputs": [
    {
     "name": "stdout",
     "output_type": "stream",
     "text": [
      "L'élément 4 apparaît aux indices [0, 3, 5]\n"
     ]
    }
   ],
   "source": [
    "# Cas d'utilisation  de la fonction recherche_occurences \n",
    "liste = [4, 2, 7, 4, 9, 4, 3]\n",
    "element = 4\n",
    "resultat = recherche_occurrences(liste, element)\n",
    "print(f\"L'élément {element} apparaît aux indices {resultat}\" if resultat else \"Élément non trouvé\")"
   ]
  },
  {
   "cell_type": "code",
   "execution_count": 27,
   "id": "45c4d2da-4f74-4abe-ac80-c6886d9a182d",
   "metadata": {},
   "outputs": [
    {
     "name": "stdout",
     "output_type": "stream",
     "text": [
      "Élément non trouvé\n"
     ]
    }
   ],
   "source": [
    "# Cas d'utilisation  de la fonction recherche_occurences \n",
    "liste = [7, 2, 7, 10, 9, 11, 3]\n",
    "element = 4\n",
    "resultat = recherche_occurrences(liste, element)\n",
    "print(f\"L'élément {element} apparaît aux indices {resultat}\" if resultat else \"Élément non trouvé\")"
   ]
  },
  {
   "cell_type": "markdown",
   "id": "e90406f5-081b-41de-a81e-a1ecbf21901d",
   "metadata": {},
   "source": [
    "# Exercice 5 : Recherche dans une liste de chaînes de caractères\n",
    "\n",
    "### Écrivez une fonction recherche_prefixe(liste, prefixe) qui retourne une liste de toutes les chaînes de caractères dans la liste qui commencent par le préfixe donné."
   ]
  },
  {
   "cell_type": "code",
   "execution_count": 30,
   "id": "28929300-dc23-4087-b9b9-dabb2e11837c",
   "metadata": {},
   "outputs": [],
   "source": [
    "def recherche_prefixe(liste, prefixe):\n",
    "    \"\"\"\n",
    "    Recherche toutes les chaînes de caractères dans une liste qui commencent par un préfixe donné.\n",
    "    \n",
    "    Args:\n",
    "        liste (list): Liste de chaînes de caractères.\n",
    "        prefixe (str): Préfixe à rechercher.\n",
    "    \n",
    "    Returns:\n",
    "        list: Une liste contenant toutes les chaînes qui commencent par le préfixe, ou une liste vide si aucune chaîne ne correspond.\n",
    "    \"\"\"\n",
    "    resultats = []\n",
    "    \n",
    "    for chaine in liste:\n",
    "        \n",
    "        if chaine.startswith(prefixe):\n",
    "            \n",
    "            resultats.append(chaine)\n",
    "            \n",
    "    return resultats "
   ]
  },
  {
   "cell_type": "code",
   "execution_count": 32,
   "id": "eaba1b2c-771d-4cdc-b916-8b1dd6fb27b1",
   "metadata": {},
   "outputs": [
    {
     "name": "stdout",
     "output_type": "stream",
     "text": [
      "Les chaînes qui commencent par 'app' sont : ['apple', 'application']\n"
     ]
    }
   ],
   "source": [
    "# Cas d'utilisation de la récherche à coût uniforme \n",
    "\n",
    "liste = [\"apple\", \"banana\", \"apricot\", \"cherry\", \"application\"]\n",
    "prefixe = \"app\"\n",
    "\n",
    "resultat = recherche_prefixe(liste, prefixe)\n",
    "\n",
    "print(f\"Les chaînes qui commencent par '{prefixe}' sont : {resultat}\" if resultat else \"Aucune chaîne ne correspond au préfixe\")\n"
   ]
  },
  {
   "cell_type": "markdown",
   "id": "e3582832-4767-4248-9139-706c29bb6dc8",
   "metadata": {},
   "source": [
    "# Exercice 6 : Recherche de la médiane de deux tableaux triés\n",
    "\n",
    "### Écrivez une fonction mediane_deux_tableaux(liste1, liste2) qui trouve la médiane de deux tableaux triés de taille égale."
   ]
  },
  {
   "cell_type": "code",
   "execution_count": 8,
   "id": "cbec48ba-8a63-4c40-b963-19102ef42601",
   "metadata": {},
   "outputs": [],
   "source": [
    "def mediane_deux_tableaux(liste1, liste2):\n",
    "    \n",
    "    \"\"\"\n",
    "    Trouve la médiane de deux tableaux triés de taille égale.\n",
    "    \n",
    "    Args:\n",
    "        liste1 (list): Premier tableau trié.\n",
    "        liste2 (list): Deuxième tableau trié.\n",
    "    \n",
    "    Returns:\n",
    "        float: La médiane des deux tableaux combinés.\n",
    "    \"\"\"\n",
    "    \n",
    "    if len(liste1) != len(liste2):\n",
    "        raise ValueError(\"Les deux listes doivent avoir la même taille.\")\n",
    "    \n",
    "    fusion = []\n",
    "\n",
    "    # Fusion des deux listes triées \n",
    "    n = len(liste1)\n",
    "    i, j = 0, 0\n",
    "\n",
    "    while i < n and j < n:\n",
    "        if liste1[i] < liste1[j]:\n",
    "            fusion.append(liste1[i])\n",
    "            i += 1\n",
    "        else:\n",
    "            fusion.append(liste2[j])\n",
    "            j += 1\n",
    "            \n",
    "    # Ajout des élements restants \n",
    "    fusion.extend(liste1[i:])\n",
    "    fusion.extend(liste2[j:])\n",
    "\n",
    "    "
   ]
  },
  {
   "cell_type": "markdown",
   "id": "a8a70ac6-7e76-4310-afe5-a6d798256c09",
   "metadata": {},
   "source": [
    "# Exercice 7 : Recherche dans une matrice\n",
    "\n",
    "### Écrivez une fonction recherche_matrice(matrice, element) qui recherche un élément dans une matrice (liste de listes) triée par lignes et par colonnes. La fonction doit retourner les coordonnées (i, j) de l'élément s'il est trouvé, ou None sinon."
   ]
  },
  {
   "cell_type": "code",
   "execution_count": 18,
   "id": "b969665c-f2f3-44e6-bfa7-c0595c2b74c1",
   "metadata": {},
   "outputs": [],
   "source": [
    "def recherche_matrice(matrice, element):\n",
    "    \"\"\"\n",
    "    Recherche un élément dans une matrice triée par lignes et colonnes.\n",
    "\n",
    "    Args:\n",
    "        matrice (list of list of int): La matrice triée.\n",
    "        element (int): L'élément à rechercher.\n",
    "\n",
    "    Returns:\n",
    "        tuple: Les coordonnées (i, j) de l'élément, ou None s'il n'est pas trouvé.\n",
    "    \"\"\"\n",
    "    if not matrice or not matrice[0]:\n",
    "        return None \n",
    "        \n",
    "    # Initialisation des nombres de lignes et de colonnes \n",
    "    lignes, colonnes = len(matrice), len(matrice[0])\n",
    "    i, j = 0, colonnes - 1 \n",
    "\n",
    "    while i < lignes and j > 0:\n",
    "        if matrice[i][j] == element:\n",
    "            return (i, j)\n",
    "        elif matrice[i][j] > element:\n",
    "            j -= 1\n",
    "        else:\n",
    "            i += 1\n",
    "    return None \n",
    "\n",
    "    \n",
    "    "
   ]
  },
  {
   "cell_type": "code",
   "execution_count": 20,
   "id": "340cc2ef-b89c-46b1-9041-f67f90c498ca",
   "metadata": {},
   "outputs": [
    {
     "name": "stdout",
     "output_type": "stream",
     "text": [
      "Résultat pour 5: (1, 1)\n",
      "Résultat pour 20: None\n"
     ]
    }
   ],
   "source": [
    "# Cas d'utilisation de la fonction \n",
    "matrice = [\n",
    "    [1, 4, 7, 11, 15],\n",
    "    [2, 5, 8, 12, 19],\n",
    "    [3, 6, 9, 16, 22],\n",
    "    [10, 13, 14, 17, 24],\n",
    "    [18, 21, 23, 26, 30]\n",
    "]\n",
    "\n",
    "# Rechercher un élément\n",
    "resultat = recherche_matrice(matrice, 5)\n",
    "print(\"Résultat pour 5:\", resultat)  # Résultat attendu : (1, 1)\n",
    "\n",
    "resultat = recherche_matrice(matrice, 20)\n",
    "print(\"Résultat pour 20:\", resultat)  # Résultat attendu : None\n"
   ]
  },
  {
   "cell_type": "markdown",
   "id": "808c797c-eff9-4d8d-bdfa-522514f8cae3",
   "metadata": {},
   "source": [
    "# Exercice 8 : Recherche de la valeur minimale et maximale\n",
    "\n",
    "### Écrivez une fonction recherche_min_max(liste) qui retourne un tuple contenant la valeur minimale et la valeur maximale dans une liste."
   ]
  },
  {
   "cell_type": "code",
   "execution_count": 23,
   "id": "aa858121-2a1f-4b1e-8b39-cb16b0c4260a",
   "metadata": {},
   "outputs": [],
   "source": [
    "def recherche_min_max(liste):\n",
    "    \"\"\"\n",
    "    Recherche la valeur minimale et maximale dans une liste.\n",
    "\n",
    "    Args:\n",
    "        liste (list): La liste des éléments.\n",
    "\n",
    "    Returns:\n",
    "        tuple: Un tuple (min, max) contenant la valeur minimale et maximale,\n",
    "               ou None si la liste est vide.\n",
    "    \"\"\"\n",
    "    if not liste:\n",
    "        return None \n",
    "    min_valeur=max_valeur=liste[0]\n",
    "\n",
    "    for valeur in liste:\n",
    "        if valeur < min_valeur:\n",
    "            \n",
    "            min_valeur = valeur\n",
    "            \n",
    "        elif valeur > max_valeur:\n",
    "            \n",
    "            max_valeur = valeur \n",
    "            \n",
    "    return (max_valeur, min_valeur)\n",
    "            \n",
    "            "
   ]
  },
  {
   "cell_type": "code",
   "execution_count": 25,
   "id": "65a5729e-404a-45b6-b829-4ef54123e8fc",
   "metadata": {},
   "outputs": [
    {
     "name": "stdout",
     "output_type": "stream",
     "text": [
      "Min et Max: (9, 1)\n",
      "Liste vide: None\n"
     ]
    }
   ],
   "source": [
    "# Cas d'utilisation de la fonction \n",
    "\n",
    "liste = [3, 1, 4, 1, 5, 9, 2, 6, 5, 3, 5]\n",
    "resultat = recherche_min_max(liste)\n",
    "print(\"Min et Max:\", resultat)  # Résultat attendu : (1, 9)\n",
    "\n",
    "liste_vide = []\n",
    "resultat = recherche_min_max(liste_vide)\n",
    "print(\"Liste vide:\", resultat)  # Résultat attendu : None"
   ]
  },
  {
   "cell_type": "markdown",
   "id": "24c1dd7e-299c-4a01-9217-a1409d519d08",
   "metadata": {},
   "source": [
    "# Exercice 9 : Recherche dans une liste cyclique\n",
    "\n",
    "### Écrivez une fonction recherche_cyclique(liste, element) qui recherche un élément dans une liste cyclique (une liste qui a été déplacée circulairement). La fonction doit retourner l'indice de l'élément s'il est trouvé, ou -1 sinon."
   ]
  },
  {
   "cell_type": "code",
   "execution_count": 34,
   "id": "606ecad6-0164-4a38-8201-38a9c15f9768",
   "metadata": {},
   "outputs": [],
   "source": [
    "def recherche_cyclique(liste, element):\n",
    "    \"\"\"\n",
    "    Recherche un élément dans une liste cyclique.\n",
    "\n",
    "    Args:\n",
    "        liste (list): La liste cyclique.\n",
    "        element (int): L'élément à rechercher.\n",
    "\n",
    "    Returns:\n",
    "        int: L'indice de l'élément s'il est trouvé, ou -1 sinon.\n",
    "    \"\"\"\n",
    "    if not liste:\n",
    "        return -1  # Si la liste est vide, retourner -1\n",
    "\n",
    "    debut, fin = 0, len(liste) - 1\n",
    "\n",
    "    while debut <= fin:\n",
    "        milieu = (debut + fin) // 2\n",
    "\n",
    "        # Vérification si l'élément est au milieu\n",
    "        if liste[milieu] == element:\n",
    "            return milieu\n",
    "\n",
    "        # Identifier la partie triée de la liste\n",
    "        if liste[debut] <= liste[milieu]:\n",
    "            # Partie gauche est triée\n",
    "            if liste[debut] <= element < liste[milieu]:\n",
    "                fin = milieu - 1  # L'élément est dans la partie gauche\n",
    "            else:\n",
    "                debut = milieu + 1  # Aller dans la partie droite\n",
    "        else:\n",
    "            # Partie droite est triée\n",
    "            if liste[milieu] < element <= liste[fin]:\n",
    "                debut = milieu + 1  # L'élément est dans la partie droite\n",
    "            else:\n",
    "                fin = milieu - 1  # Aller dans la partie gauche\n",
    "\n",
    "    return -1  # Élément non trouvé\n"
   ]
  },
  {
   "cell_type": "code",
   "execution_count": 36,
   "id": "a5f6065f-9871-4121-b3e7-4518761943b1",
   "metadata": {},
   "outputs": [
    {
     "name": "stdout",
     "output_type": "stream",
     "text": [
      "Résultat pour 3: 5\n",
      "Résultat pour 9: -1\n"
     ]
    }
   ],
   "source": [
    "# cas d'utilisation de la fonction \n",
    "liste = [6, 7, 8, 1, 2, 3, 4, 5]\n",
    "resultat = recherche_cyclique(liste, 3)\n",
    "print(\"Résultat pour 3:\", resultat)  # Résultat attendu : 5\n",
    "\n",
    "resultat = recherche_cyclique(liste, 9)\n",
    "print(\"Résultat pour 9:\", resultat)  # Résultat attendu : -1\n"
   ]
  },
  {
   "cell_type": "markdown",
   "id": "7eba87e2-b4f1-4558-9e8e-10d6b5c29c3d",
   "metadata": {},
   "source": [
    "# Exercice 10 : Recherche dans une liste avec doublons\n",
    "\n",
    "### Écrivez une fonction recherche_premier_occurrence(liste, element) qui retourne l'indice de la première occurrence de l'élément dans une liste avec des doublons. Si l'élément n'est pas trouvé, la fonction doit retourner -1."
   ]
  },
  {
   "cell_type": "code",
   "execution_count": 39,
   "id": "be4d5734-c578-49e2-a65f-76ad581e9501",
   "metadata": {},
   "outputs": [],
   "source": [
    "def recherche_premier_occurrence(liste, element):\n",
    "    \"\"\"\n",
    "    Recherche l'indice de la première occurrence d'un élément dans une liste avec doublons.\n",
    "\n",
    "    Args:\n",
    "        liste (list): La liste des éléments.\n",
    "        element (int): L'élément à rechercher.\n",
    "\n",
    "    Returns:\n",
    "        int: L'indice de la première occurrence de l'élément, ou -1 si l'élément n'est pas trouvé.\n",
    "    \"\"\"\n",
    "    debut, fin = 0, len(liste) - 1\n",
    "    resultat = -1\n",
    "\n",
    "    while debut <= fin:\n",
    "        milieu = (debut + fin) // 2\n",
    "\n",
    "        if liste[milieu] == element:\n",
    "            resultat = milieu  # Mémoriser l'indice trouvé\n",
    "            fin = milieu - 1  # Continuer la recherche à gauche\n",
    "        elif liste[milieu] < element:\n",
    "            debut = milieu + 1\n",
    "        else:\n",
    "            fin = milieu - 1\n",
    "\n",
    "    return resultat"
   ]
  },
  {
   "cell_type": "code",
   "execution_count": 41,
   "id": "02675656-5581-4d6a-9b08-af8cde142c94",
   "metadata": {},
   "outputs": [
    {
     "name": "stdout",
     "output_type": "stream",
     "text": [
      "Résultat pour 2: 1\n",
      "Résultat pour 6: -1\n"
     ]
    }
   ],
   "source": [
    "# Cas d'utilisation de la fonction \n",
    "\n",
    "liste = [1, 2, 2, 2, 3, 4, 5]\n",
    "resultat = recherche_premier_occurrence(liste, 2)\n",
    "print(\"Résultat pour 2:\", resultat)  # Résultat attendu : 1\n",
    "\n",
    "resultat = recherche_premier_occurrence(liste, 6)\n",
    "print(\"Résultat pour 6:\", resultat)  # Résultat attendu : -1"
   ]
  },
  {
   "cell_type": "markdown",
   "id": "8014370e-35ab-4628-965d-8d12f7990aa3",
   "metadata": {},
   "source": [
    "# Exercice 11 : Recherche dans une liste triée avec une valeur cible\n",
    "\n",
    "### Écrivez une fonction recherche_proche(liste, element) qui retourne l'élément le plus proche de la valeur cible dans une liste triée. Si deux éléments sont équidistants, retournez le plus petit."
   ]
  },
  {
   "cell_type": "code",
   "execution_count": 45,
   "id": "674bdc2e-6a5f-44d1-8955-4179c1015424",
   "metadata": {},
   "outputs": [],
   "source": [
    "def recherche_proche(liste, element):\n",
    "    \"\"\"\n",
    "    Trouve l'élément le plus proche d'une valeur cible dans une liste triée.\n",
    "\n",
    "    Args:\n",
    "        liste (list): La liste triée d'éléments.\n",
    "        element (int): La valeur cible.\n",
    "\n",
    "    Returns:\n",
    "        int: L'élément le plus proche de la valeur cible.\n",
    "    \"\"\"\n",
    "    if not liste:\n",
    "        return None  # Si la liste est vide, retourner None\n",
    "\n",
    "    debut, fin = 0, len(liste) - 1\n",
    "\n",
    "    while debut <= fin:\n",
    "        milieu = (debut + fin) // 2\n",
    "\n",
    "        if liste[milieu] == element:\n",
    "            return liste[milieu]  # Retourner directement si l'élément est trouvé\n",
    "\n",
    "        if liste[milieu] < element:\n",
    "            debut = milieu + 1\n",
    "        else:\n",
    "            fin = milieu - 1\n",
    "\n",
    "    # Après la recherche, comparer les voisins\n",
    "    voisin_gauche = liste[fin] if fin >= 0 else float('-inf')\n",
    "    voisin_droite = liste[debut] if debut < len(liste) else float('inf')\n",
    "\n",
    "    # Comparer les distances et retourner le plus proche, ou le plus petit si égalité\n",
    "    if abs(voisin_gauche - element) <= abs(voisin_droite - element):\n",
    "        return voisin_gauche\n",
    "    else:\n",
    "        return voisin_droite"
   ]
  },
  {
   "cell_type": "code",
   "execution_count": 47,
   "id": "eebe4bf6-ced4-483d-8190-dc2e0391da1b",
   "metadata": {},
   "outputs": [
    {
     "name": "stdout",
     "output_type": "stream",
     "text": [
      "Résultat pour 7: 8\n",
      "Résultat pour 4: 3\n",
      "Résultat pour 15: 12\n"
     ]
    }
   ],
   "source": [
    "# cas d'utilisation de la fonction \n",
    "\n",
    "liste = [1, 3, 5, 8, 12, 18]\n",
    "resultat = recherche_proche(liste, 7)\n",
    "print(\"Résultat pour 7:\", resultat)  # Résultat attendu : 8\n",
    "\n",
    "resultat = recherche_proche(liste, 4)\n",
    "print(\"Résultat pour 4:\", resultat)  # Résultat attendu : 3\n",
    "\n",
    "resultat = recherche_proche(liste, 15)\n",
    "print(\"Résultat pour 15:\", resultat)  # Résultat attendu : 12"
   ]
  },
  {
   "cell_type": "code",
   "execution_count": null,
   "id": "8271581c-08b0-494e-847b-3426db720414",
   "metadata": {},
   "outputs": [],
   "source": []
  }
 ],
 "metadata": {
  "kernelspec": {
   "display_name": "Python 3 (ipykernel)",
   "language": "python",
   "name": "python3"
  },
  "language_info": {
   "codemirror_mode": {
    "name": "ipython",
    "version": 3
   },
   "file_extension": ".py",
   "mimetype": "text/x-python",
   "name": "python",
   "nbconvert_exporter": "python",
   "pygments_lexer": "ipython3",
   "version": "3.12.4"
  }
 },
 "nbformat": 4,
 "nbformat_minor": 5
}
